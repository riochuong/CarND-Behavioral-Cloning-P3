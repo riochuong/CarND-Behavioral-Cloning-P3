{
 "cells": [
  {
   "cell_type": "markdown",
   "metadata": {},
   "source": [
    "## Train Network to Drive Car in Simulation"
   ]
  },
  {
   "cell_type": "markdown",
   "metadata": {},
   "source": [
    "## Data Preprocessing"
   ]
  },
  {
   "cell_type": "code",
   "execution_count": 6,
   "metadata": {},
   "outputs": [],
   "source": [
    "import cv2\n",
    "import keras\n",
    "import tensorflow as tf\n",
    "import csv\n",
    "import numpy as np\n",
    "import os "
   ]
  },
  {
   "cell_type": "code",
   "execution_count": 3,
   "metadata": {
    "collapsed": true
   },
   "outputs": [],
   "source": [
    "import os\n",
    "######\n",
    "CENTER_IDX = 0\n",
    "LEFT_IDX = 1\n",
    "RIGHT_IDX = 2\n",
    "STEERING_ANGLE_IDX = 3\n"
   ]
  },
  {
   "cell_type": "markdown",
   "metadata": {},
   "source": [
    "#### READ INPUT DATA"
   ]
  },
  {
   "cell_type": "code",
   "execution_count": 4,
   "metadata": {
    "collapsed": true
   },
   "outputs": [],
   "source": [
    "\n",
    "\n",
    "def extract_file_name(file):\n",
    "    \"\"\"\n",
    "    Assume last backslash\n",
    "    \"\"\"\n",
    "    assert(file is not None)\n",
    "    name_start = file.rfind(\"/\")\n",
    "    return file[name_start+1:]\n",
    "\n",
    "\n",
    "def read_input_dir(folder_name, raw_inputs):\n",
    "    # OPEN data folder to read data\n",
    "    # load csv file\n",
    "    if not os.path.exists(folder_name):\n",
    "        raise Exception('folder %s does not exist' % folder_name)\n",
    "    with open(folder_name + \"/driving_log.csv\") as f:\n",
    "        reader = csv.reader(f)\n",
    "        for data in reader:\n",
    "            # extract name \n",
    "            center_img = os.path.join(folder_name+\"/IMG\", extract_file_name(data[CENTER_IDX]))\n",
    "            # append data \n",
    "            raw_inputs.append((center_img, float(data[STEERING_ANGLE_IDX])))\n",
    "            \n",
    "\n",
    "        \n",
    "        \n",
    "\n",
    "        "
   ]
  },
  {
   "cell_type": "markdown",
   "metadata": {},
   "source": [
    "### READ ALL DATA FOLDER "
   ]
  },
  {
   "cell_type": "code",
   "execution_count": 5,
   "metadata": {},
   "outputs": [
    {
     "name": "stdout",
     "output_type": "stream",
     "text": [
      "2797\n",
      "5893\n",
      "6867\n",
      "8360\n",
      "9330\n",
      "10560\n",
      "11652\n",
      "13738\n",
      "15090\n"
     ]
    }
   ],
   "source": [
    "raw_inputs = []\n",
    "# read each data folder\n",
    "folder_list = [\n",
    "    \"../collect_data/drive_forward_data\",\n",
    "    \"../collect_data/drive_reverse_data\",\n",
    "    \"../collect_data/drive_left_data\",\n",
    "    \"../collect_data/drive_right_data\",\n",
    "    \"../collect_data2/side_drive_data_1\",\n",
    "    \"../collect_data2/side_drive_data2\",\n",
    "    \"../collect_data3/bridge_data\",\n",
    "    \"../collect_data4\",\n",
    "    \"../collect_data5\"\n",
    "]\n",
    "\n",
    "# Read all data \n",
    "for each_folder in folder_list:\n",
    "    read_input_dir(each_folder, raw_inputs)\n",
    "    print (len(raw_inputs))\n"
   ]
  },
  {
   "cell_type": "code",
   "execution_count": 8,
   "metadata": {},
   "outputs": [],
   "source": [
    "# convert to numpy array\n",
    "from sklearn.model_selection import train_test_split\n",
    "raw_inputs = np.array(raw_inputs)\n",
    "train_raw_inputs, validation_raw_inputs = train_test_split(raw_inputs, test_size=0.2)"
   ]
  },
  {
   "cell_type": "code",
   "execution_count": 29,
   "metadata": {
    "collapsed": true
   },
   "outputs": [],
   "source": [
    "import matplotlib.pyplot as plt\n",
    "%matplotlib inline"
   ]
  },
  {
   "cell_type": "markdown",
   "metadata": {},
   "source": [
    "### GENERATOR FOR CREATE BATCH DATA"
   ]
  },
  {
   "cell_type": "code",
   "execution_count": 112,
   "metadata": {
    "collapsed": true
   },
   "outputs": [],
   "source": [
    "from sklearn.utils import shuffle\n",
    "# CENTEER\n",
    "def data_generator(raw_inputs, batch_size=32):\n",
    "    total_samples = len(raw_inputs)\n",
    "    print(raw_inputs.shape)\n",
    "    while 1:\n",
    "        for offset in range(0, total_samples, batch_size):\n",
    "            samples = raw_inputs[offset:offset+batch_size]\n",
    "            inputs = []\n",
    "            labels = []\n",
    "            for sample in samples:\n",
    "                if (not os.path.exists(sample[0])):\n",
    "                    print(\"Failed %s \" % sample[0])\n",
    "                inputs.append(cv2.cvtColor(cv2.imread(sample[0]), cv2.COLOR_BGR2RGB))\n",
    "                labels.append(sample[1])\n",
    "            X_train = np.array(inputs)\n",
    "            Y_train = np.array(labels)\n",
    "            yield shuffle(X_train, Y_train)"
   ]
  },
  {
   "cell_type": "markdown",
   "metadata": {},
   "source": [
    "### SPLIT DATA AND CREATE GENERATOR"
   ]
  },
  {
   "cell_type": "code",
   "execution_count": 113,
   "metadata": {
    "collapsed": true
   },
   "outputs": [],
   "source": [
    "train_generator = data_generator(train_raw_inputs)\n",
    "validation_generator = data_generator(validation_raw_inputs)"
   ]
  },
  {
   "cell_type": "markdown",
   "metadata": {},
   "source": [
    "## NETWORK ARCHITECTURE AND TRAINING"
   ]
  },
  {
   "cell_type": "code",
   "execution_count": 123,
   "metadata": {
    "collapsed": true
   },
   "outputs": [],
   "source": [
    "from keras.models import Sequential\n",
    "from keras.layers import Conv2D, Flatten, Dropout, MaxPooling2D, Dense, Lambda, Cropping2D, BatchNormalization\n",
    "from keras.callbacks import ModelCheckpoint"
   ]
  },
  {
   "cell_type": "code",
   "execution_count": 132,
   "metadata": {
    "collapsed": true
   },
   "outputs": [],
   "source": [
    "def create_model():\n",
    "    model = Sequential()\n",
    "    # normalize input \n",
    "    model.add(Lambda(lambda x: x / 255.0 - 0.5, input_shape=(160,320,3)))\n",
    "    model.add(Cropping2D(cropping=((70,25),(0,0)))) \n",
    "    model.add(Conv2D(24, 5, 5,activation='relu', subsample=(2,2))) # input: 65x320x3, 31x158x3x16\n",
    "    model.add(BatchNormalization())\n",
    "    model.add(Dropout(p=0.2))\n",
    "    model.add(Conv2D(36, 5, 5,activation='relu',subsample=(2,2))) # input: 31x158x3x32, 13x76x3x32\n",
    "    model.add(BatchNormalization())\n",
    "    model.add(Dropout(p=0.2))\n",
    "    model.add(Conv2D(48, 5, 5,activation='relu',subsample=(2,2))) # input: 31x158x3x32, 13x76x3x32 \n",
    "    model.add(BatchNormalization())\n",
    "    model.add(Dropout(p=0.2))\n",
    "    model.add(Conv2D(64, 3, 3,activation='relu')) # input: 31x158x3x32, 13x76x3x32 \n",
    "    model.add(BatchNormalization())\n",
    "    model.add(Dropout(p=0.2))\n",
    "    model.add(Conv2D(64, 3, 3,activation='relu')) # input: 31x158x3x32, 13x76x3x32 \n",
    "    model.add(Dropout(p=0.2))\n",
    "    model.add(Flatten())\n",
    "    model.add(Dense(100, activation='relu'))\n",
    "    model.add(BatchNormalization())\n",
    "    model.add(Dropout(p=0.4))\n",
    "    model.add(Dense(50, activation='relu'))\n",
    "    model.add(BatchNormalization())\n",
    "    model.add(Dropout(p=0.4))\n",
    "    model.add(Dense(1))\n",
    "    model.compile(loss='mse', optimizer='adam', metrics=['accuracy'])\n",
    "    return model"
   ]
  },
  {
   "cell_type": "code",
   "execution_count": 139,
   "metadata": {},
   "outputs": [],
   "source": [
    "filepath=\"best_model.hdf5\"\n",
    "checkpoint = ModelCheckpoint(filepath, monitor='val_loss', verbose=1, save_best_only=True, mode='min')\n",
    "callback_list = [checkpoint]"
   ]
  },
  {
   "cell_type": "code",
   "execution_count": 140,
   "metadata": {},
   "outputs": [],
   "source": [
    "my_model = create_model()"
   ]
  },
  {
   "cell_type": "code",
   "execution_count": 141,
   "metadata": {},
   "outputs": [
    {
     "name": "stdout",
     "output_type": "stream",
     "text": [
      "Epoch 1/20\n",
      "12040/12072 [============================>.] - ETA: 0s - loss: 1.2671 - acc: 0.3047Epoch 00000: val_loss improved from inf to 0.12870, saving model to best_model.hdf5\n",
      "12072/12072 [==============================] - 22s - loss: 1.2653 - acc: 0.3048 - val_loss: 0.1287 - val_acc: 0.5315\n",
      "Epoch 2/20\n",
      "12040/12072 [============================>.] - ETA: 0s - loss: 0.3266 - acc: 0.4726Epoch 00001: val_loss improved from 0.12870 to 0.09908, saving model to best_model.hdf5\n",
      "12072/12072 [==============================] - 21s - loss: 0.3262 - acc: 0.4724 - val_loss: 0.0991 - val_acc: 0.5308\n",
      "Epoch 3/20\n",
      "12040/12072 [============================>.] - ETA: 0s - loss: 0.1564 - acc: 0.5177- ETA: 0s - loss: 0.1575 - accEpoch 00002: val_loss improved from 0.09908 to 0.09716, saving model to best_model.hdf5\n",
      "12072/12072 [==============================] - 21s - loss: 0.1565 - acc: 0.5175 - val_loss: 0.0972 - val_acc: 0.5328\n",
      "Epoch 4/20\n",
      "12040/12072 [============================>.] - ETA: 0s - loss: 0.1119 - acc: 0.5305Epoch 00003: val_loss improved from 0.09716 to 0.09594, saving model to best_model.hdf5\n",
      "12072/12072 [==============================] - 21s - loss: 0.1120 - acc: 0.5302 - val_loss: 0.0959 - val_acc: 0.5328\n",
      "Epoch 5/20\n",
      "12040/12072 [============================>.] - ETA: 0s - loss: 0.1018 - acc: 0.5332Epoch 00004: val_loss improved from 0.09594 to 0.09478, saving model to best_model.hdf5\n",
      "12072/12072 [==============================] - 21s - loss: 0.1019 - acc: 0.5330 - val_loss: 0.0948 - val_acc: 0.5325\n",
      "Epoch 6/20\n",
      "12040/12072 [============================>.] - ETA: 0s - loss: 0.0980 - acc: 0.5355Epoch 00005: val_loss improved from 0.09478 to 0.09437, saving model to best_model.hdf5\n",
      "12072/12072 [==============================] - 21s - loss: 0.0982 - acc: 0.5351 - val_loss: 0.0944 - val_acc: 0.5328\n",
      "Epoch 7/20\n",
      "12040/12072 [============================>.] - ETA: 0s - loss: 0.0962 - acc: 0.5354Epoch 00006: val_loss improved from 0.09437 to 0.09255, saving model to best_model.hdf5\n",
      "12072/12072 [==============================] - 21s - loss: 0.0963 - acc: 0.5350 - val_loss: 0.0925 - val_acc: 0.5335\n",
      "Epoch 8/20\n",
      "12040/12072 [============================>.] - ETA: 0s - loss: 0.0938 - acc: 0.5383Epoch 00007: val_loss improved from 0.09255 to 0.09114, saving model to best_model.hdf5\n",
      "12072/12072 [==============================] - 21s - loss: 0.0940 - acc: 0.5379 - val_loss: 0.0911 - val_acc: 0.5302\n",
      "Epoch 9/20\n",
      "12040/12072 [============================>.] - ETA: 0s - loss: 0.0928 - acc: 0.5373Epoch 00008: val_loss improved from 0.09114 to 0.09030, saving model to best_model.hdf5\n",
      "12072/12072 [==============================] - 21s - loss: 0.0930 - acc: 0.5370 - val_loss: 0.0903 - val_acc: 0.5345\n",
      "Epoch 10/20\n",
      "12040/12072 [============================>.] - ETA: 0s - loss: 0.0919 - acc: 0.5379Epoch 00009: val_loss improved from 0.09030 to 0.08971, saving model to best_model.hdf5\n",
      "12072/12072 [==============================] - 21s - loss: 0.0921 - acc: 0.5374 - val_loss: 0.0897 - val_acc: 0.5348\n",
      "Epoch 11/20\n",
      "12040/12072 [============================>.] - ETA: 0s - loss: 0.0917 - acc: 0.5378Epoch 00010: val_loss improved from 0.08971 to 0.08918, saving model to best_model.hdf5\n",
      "12072/12072 [==============================] - 21s - loss: 0.0919 - acc: 0.5374 - val_loss: 0.0892 - val_acc: 0.5348\n",
      "Epoch 12/20\n",
      "12040/12072 [============================>.] - ETA: 0s - loss: 0.0898 - acc: 0.5383Epoch 00011: val_loss improved from 0.08918 to 0.08630, saving model to best_model.hdf5\n",
      "12072/12072 [==============================] - 21s - loss: 0.0899 - acc: 0.5380 - val_loss: 0.0863 - val_acc: 0.5341\n",
      "Epoch 13/20\n",
      "12040/12072 [============================>.] - ETA: 0s - loss: 0.0896 - acc: 0.5399Epoch 00012: val_loss did not improve\n",
      "12072/12072 [==============================] - 21s - loss: 0.0897 - acc: 0.5396 - val_loss: 0.0864 - val_acc: 0.5391\n",
      "Epoch 14/20\n",
      "12040/12072 [============================>.] - ETA: 0s - loss: 0.0877 - acc: 0.5396Epoch 00013: val_loss improved from 0.08630 to 0.08153, saving model to best_model.hdf5\n",
      "12072/12072 [==============================] - 21s - loss: 0.0879 - acc: 0.5393 - val_loss: 0.0815 - val_acc: 0.5421\n",
      "Epoch 15/20\n",
      "12040/12072 [============================>.] - ETA: 0s - loss: 0.0865 - acc: 0.5394Epoch 00014: val_loss improved from 0.08153 to 0.08110, saving model to best_model.hdf5\n",
      "12072/12072 [==============================] - 21s - loss: 0.0867 - acc: 0.5390 - val_loss: 0.0811 - val_acc: 0.5417\n",
      "Epoch 16/20\n",
      "12040/12072 [============================>.] - ETA: 0s - loss: 0.0855 - acc: 0.5393Epoch 00015: val_loss did not improve\n",
      "12072/12072 [==============================] - 21s - loss: 0.0857 - acc: 0.5389 - val_loss: 0.0818 - val_acc: 0.5431\n",
      "Epoch 17/20\n",
      "12040/12072 [============================>.] - ETA: 0s - loss: 0.0843 - acc: 0.5404Epoch 00016: val_loss did not improve\n",
      "12072/12072 [==============================] - 21s - loss: 0.0846 - acc: 0.5401 - val_loss: 0.0821 - val_acc: 0.5391\n",
      "Epoch 18/20\n",
      "12040/12072 [============================>.] - ETA: 0s - loss: 0.0823 - acc: 0.5439Epoch 00017: val_loss did not improve\n",
      "12072/12072 [==============================] - 21s - loss: 0.0825 - acc: 0.5435 - val_loss: 0.0840 - val_acc: 0.5378\n",
      "Epoch 19/20\n",
      "12040/12072 [============================>.] - ETA: 0s - loss: 0.0820 - acc: 0.5419Epoch 00018: val_loss improved from 0.08110 to 0.07954, saving model to best_model.hdf5\n",
      "12072/12072 [==============================] - 21s - loss: 0.0822 - acc: 0.5416 - val_loss: 0.0795 - val_acc: 0.5408\n",
      "Epoch 20/20\n",
      "12040/12072 [============================>.] - ETA: 0s - loss: 0.0813 - acc: 0.5415Epoch 00019: val_loss did not improve\n",
      "12072/12072 [==============================] - 21s - loss: 0.0815 - acc: 0.5411 - val_loss: 0.0806 - val_acc: 0.5404\n"
     ]
    },
    {
     "data": {
      "text/plain": [
       "<keras.callbacks.History at 0x7f6fa76d3eb8>"
      ]
     },
     "execution_count": 141,
     "metadata": {},
     "output_type": "execute_result"
    }
   ],
   "source": [
    "my_model.fit_generator(train_generator, samples_per_epoch=len(train_raw_inputs), callbacks=callback_list,nb_epoch=20, \n",
    "               validation_data=validation_generator, nb_val_samples=len(validation_raw_inputs))"
   ]
  },
  {
   "cell_type": "code",
   "execution_count": 43,
   "metadata": {
    "collapsed": true
   },
   "outputs": [],
   "source": [
    "my_model.save('my_model.h5')"
   ]
  },
  {
   "cell_type": "code",
   "execution_count": null,
   "metadata": {
    "collapsed": true
   },
   "outputs": [],
   "source": []
  }
 ],
 "metadata": {
  "kernelspec": {
   "display_name": "Python 3",
   "language": "python",
   "name": "python3"
  },
  "language_info": {
   "codemirror_mode": {
    "name": "ipython",
    "version": 3
   },
   "file_extension": ".py",
   "mimetype": "text/x-python",
   "name": "python",
   "nbconvert_exporter": "python",
   "pygments_lexer": "ipython3",
   "version": "3.5.2"
  },
  "widgets": {
   "state": {},
   "version": "1.1.2"
  }
 },
 "nbformat": 4,
 "nbformat_minor": 2
}
