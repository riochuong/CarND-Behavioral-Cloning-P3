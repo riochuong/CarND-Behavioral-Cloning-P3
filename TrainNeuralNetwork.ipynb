{
 "cells": [
  {
   "cell_type": "markdown",
   "metadata": {},
   "source": [
    "## Train Network to Drive Car in Simulation"
   ]
  },
  {
   "cell_type": "markdown",
   "metadata": {},
   "source": [
    "## Data Preprocessing"
   ]
  },
  {
   "cell_type": "code",
   "execution_count": 2,
   "metadata": {},
   "outputs": [],
   "source": [
    "import cv2\n",
    "import keras\n",
    "import tensorflow as tf\n",
    "import csv\n",
    "import numpy as np"
   ]
  },
  {
   "cell_type": "code",
   "execution_count": 12,
   "metadata": {},
   "outputs": [],
   "source": [
    "import os\n",
    "######\n",
    "CENTER_IDX = 0\n",
    "LEFT_IDX = 1\n",
    "RIGHT_IDX = 2\n",
    "STEERING_ANGLE_IDX = 3\n"
   ]
  },
  {
   "cell_type": "markdown",
   "metadata": {},
   "source": [
    "#### READ INPUT DATA"
   ]
  },
  {
   "cell_type": "code",
   "execution_count": 14,
   "metadata": {},
   "outputs": [],
   "source": [
    "center_imgs = []\n",
    "left_imgs = []\n",
    "right_imgs = []\n",
    "center_steering_angles = []\n",
    "left_steering_angles = []\n",
    "right_steering_angles = []\n",
    "\n",
    "def extract_file_name(file):\n",
    "    \"\"\"\n",
    "    Assume last backslash\n",
    "    \"\"\"\n",
    "    assert(file is not None)\n",
    "    name_start = file.rfind(\"/\")\n",
    "    return file[name_start+1:]\n",
    "# OPEN data folder to read data\n",
    "# load csv file\n",
    "with open('data/driving_log.csv') as f:\n",
    "    reader = csv.reader(f)\n",
    "    for data in reader:\n",
    "        # extract name \n",
    "        left_img = os.path.join(\"data\", extract_file_name(data[LEFT_IDX]))\n",
    "        right_img = os.path.join(\"data\", extract_file_name(data[RIGHT_IDX]))\n",
    "        center_img = os.path.join(\"data\", extract_file_name(data[CENTER_IDX]))\n",
    "        left_imgs.append(left_img)\n",
    "        right_imgs.append(right_img)\n",
    "        center_imgs.append(center_img)\n",
    "        # read measurements \n",
    "        center_steering_angles.append(float(data[STEERING_ANGLE_IDX]))\n",
    "        left_steering_angles.append(float(data[STEERING_ANGLE_IDX]))\n",
    "        right_steering_angles.append(float(data[STEERING_ANGLE_IDX]))\n",
    "        \n",
    "        \n",
    "        \n",
    "        \n",
    "\n",
    "        "
   ]
  },
  {
   "cell_type": "code",
   "execution_count": 18,
   "metadata": {},
   "outputs": [],
   "source": [
    "# convert to numpy array\n",
    "import numpy as np\n",
    "center_imgs = np.array(center_imgs)\n",
    "left_imgs = np.array(left_imgs)\n",
    "right_imgs = np.array(right_imgs)\n",
    "center_steering_angles = np.array(center_steering_angles)\n",
    "left_steering_angles = np.array(left_steering_angles)\n",
    "right_steering_angles = np.array(right_steering_angles)"
   ]
  },
  {
   "cell_type": "markdown",
   "metadata": {},
   "source": [
    "### READ RAW IMAGE DATA"
   ]
  },
  {
   "cell_type": "code",
   "execution_count": 21,
   "metadata": {
    "collapsed": true
   },
   "outputs": [],
   "source": [
    "raw_inputs = []\n",
    "raw_labels = []\n",
    "# CENTEER\n",
    "for i, image_path in enumerate(center_imgs):\n",
    "    raw_inputs.append(cv2.imread(image_path))\n",
    "    raw_labels.append(center_steering_angles[i])\n",
    "for i, image_path in enumerate(left_imgs):\n",
    "    raw_inputs.append(cv2.imread(image_path))\n",
    "    raw_labels.append(left_steering_angles[i])\n",
    "for i, image_path in enumerate(right_imgs):\n",
    "    raw_inputs.append(cv2.imread(image_path))\n",
    "    raw_labels.append(right_steering_angles[i])"
   ]
  },
  {
   "cell_type": "code",
   "execution_count": null,
   "metadata": {
    "collapsed": true
   },
   "outputs": [],
   "source": [
    "raw_inputs = np.array(raw_inputs)\n",
    "raw_labels = np.array(raw_labels)"
   ]
  },
  {
   "cell_type": "markdown",
   "metadata": {},
   "source": [
    "## NETWORK ARCHITECTURE AND TRAINING"
   ]
  },
  {
   "cell_type": "code",
   "execution_count": 20,
   "metadata": {},
   "outputs": [],
   "source": [
    "from keras.models import Sequential   \n",
    "from keras.layers import Conv2D, Flatten, Dropout, MaxPooling2D, Dense"
   ]
  },
  {
   "cell_type": "code",
   "execution_count": null,
   "metadata": {
    "collapsed": true
   },
   "outputs": [],
   "source": []
  },
  {
   "cell_type": "code",
   "execution_count": null,
   "metadata": {
    "collapsed": true
   },
   "outputs": [],
   "source": []
  },
  {
   "cell_type": "code",
   "execution_count": null,
   "metadata": {
    "collapsed": true
   },
   "outputs": [],
   "source": []
  }
 ],
 "metadata": {
  "kernelspec": {
   "display_name": "Python 3",
   "language": "python",
   "name": "python3"
  },
  "language_info": {
   "codemirror_mode": {
    "name": "ipython",
    "version": 3
   },
   "file_extension": ".py",
   "mimetype": "text/x-python",
   "name": "python",
   "nbconvert_exporter": "python",
   "pygments_lexer": "ipython3",
   "version": "3.5.2"
  },
  "widgets": {
   "state": {},
   "version": "1.1.2"
  }
 },
 "nbformat": 4,
 "nbformat_minor": 2
}
